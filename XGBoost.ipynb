{
	"cells": [
		{
			"cell_type": "code",
			"execution_count": 1,
			"metadata": {
				"colab": {
					"base_uri": "https://localhost:8080/"
				},
				"executionInfo": {
					"elapsed": 7481,
					"status": "ok",
					"timestamp": 1722358024651,
					"user": {
						"displayName": "Tejas Chaudhari",
						"userId": "07995666027659947497"
					},
					"user_tz": -330
				},
				"id": "Q-6d8jvFiQjW",
				"outputId": "75bac97e-376a-438f-8c0a-a72da7c85c6a"
			},
			"outputs": [
				{
					"name": "stdout",
					"output_type": "stream",
					"text": [
						"Num GPUs Available:  1\n"
					]
				}
			],
			"source": [
				"import tensorflow as tf\n",
				"print(\"Num GPUs Available: \", len(tf.config.list_physical_devices('GPU')))\n"
			]
		},
		{
			"cell_type": "code",
			"execution_count": null,
			"metadata": {
				"colab": {
					"background_save": true,
					"base_uri": "https://localhost:8080/",
					"height": 1000,
					"output_embedded_package_id": "15Db9ncbsw24f3bgTQP1W4xatnbNlyP9o"
				},
				"id": "CUECD_zAim_F",
				"outputId": "2b23b94e-bb87-46ef-abc7-a35f5f48a773"
			},
			"outputs": [],
			"source": [
				"# Import necessary libraries\n",
				"import pandas as pd\n",
				"import numpy as np\n",
				"import matplotlib.pyplot as plt\n",
				"import seaborn as sns\n",
				"from sklearn.model_selection import train_test_split, cross_val_score\n",
				"from sklearn.metrics import r2_score, mean_squared_error, mean_absolute_error\n",
				"import xgboost as xgb\n",
				"\n",
				"# Load the dataset\n",
				"df = pd.read_csv('SolarPrediction.csv')\n",
				"print(df.head())\n",
				"\n",
				"# Exploratory Data Analysis (EDA)\n",
				"plt.figure(figsize=(12, 6))\n",
				"sns.histplot(df['UNIXTime'], kde=True)\n",
				"plt.title('Distribution of UNIXTime')\n",
				"plt.show()\n",
				"\n",
				"# Drop unnecessary columns\n",
				"df = df.drop(['Data', 'Time', 'TimeSunRise', 'TimeSunSet'], axis=1)\n",
				"print(df.head())\n",
				"\n",
				"# Heatmap of correlations\n",
				"plt.figure(figsize=(10, 10))\n",
				"sns.heatmap(df.corr(), annot=True, cmap='coolwarm', center=0)\n",
				"plt.title('Correlation Heatmap')\n",
				"plt.show()\n",
				"\n",
				"# Pairplot of the dataframe\n",
				"sns.pairplot(df)\n",
				"plt.show()\n",
				"\n",
				"# Split data into features and target variable\n",
				"X = df.drop('Radiation', axis=1)\n",
				"y = df['Radiation']\n",
				"\n",
				"# Split data into training and testing sets\n",
				"X_train, X_test, y_train, y_test = train_test_split(X, y, test_size=0.30, random_state=101)\n",
				"\n",
				"# Convert the data into DMatrix format for xgboost\n",
				"dtrain = xgb.DMatrix(X_train, label=y_train)\n",
				"dtest = xgb.DMatrix(X_test, label=y_test)\n",
				"\n",
				"# Set parameters for xgboost with GPU support\n",
				"params = {\n",
				"    'objective': 'reg:squarederror',\n",
				"    'tree_method': 'hist',\n",
				"    'device': 'cuda',\n",
				"    'random_state': 101\n",
				"}\n",
				"\n",
				"# Train the model\n",
				"xg_reg = xgb.train(params, dtrain, num_boost_round=50)\n",
				"\n",
				"# Evaluate the model\n",
				"y_pred = xg_reg.predict(dtest)\n",
				"r2 = r2_score(y_test, y_pred)\n",
				"mse = mean_squared_error(y_test, y_pred)\n",
				"rmse = np.sqrt(mse)\n",
				"mae = mean_absolute_error(y_test, y_pred)\n",
				"\n",
				"print(f\"R2 Score: {r2}\")\n",
				"print(f\"Mean Squared Error (MSE): {mse}\")\n",
				"print(f\"Root Mean Squared Error (RMSE): {rmse}\")\n",
				"print(f\"Mean Absolute Error (MAE): {mae}\")\n",
				"\n",
				"# Cross-validation\n",
				"cv_results = xgb.cv(params, xgb.DMatrix(X, label=y), nfold=10, num_boost_round=50, metrics='rmse', as_pandas=True, seed=101)\n",
				"print(f\"Cross-Validation RMSE Scores: {cv_results['test-rmse-mean']}\")\n",
				"print(f\"Mean CV RMSE Score: {cv_results['test-rmse-mean'].mean()}\")\n",
				"print(f\"Standard Deviation of CV RMSE Scores: {cv_results['test-rmse-std'].mean()}\")\n",
				"\n",
				"# Plot true vs predicted values\n",
				"plt.figure(figsize=(10, 6))\n",
				"plt.scatter(y_test, y_pred, alpha=0.5)\n",
				"plt.plot([y.min(), y.max()], [y.min(), y.max()], 'r--')\n",
				"plt.xlabel('True Values')\n",
				"plt.ylabel('Predicted Values')\n",
				"plt.title('True vs Predicted Radiation Values')\n",
				"plt.show()\n",
				"\n",
				"# Plot residuals\n",
				"residuals = y_test - y_pred\n",
				"plt.figure(figsize=(10, 6))\n",
				"sns.histplot(residuals, kde=True)\n",
				"plt.title('Distribution of Residuals')\n",
				"plt.xlabel('Residual')\n",
				"plt.show()\n"
			]
		}
	],
	"metadata": {
		"accelerator": "GPU",
		"colab": {
			"authorship_tag": "ABX9TyML0dvCsw+EtfusrlLukBRj",
			"gpuType": "T4",
			"name": "",
			"version": ""
		},
		"kernelspec": {
			"display_name": "Python 3",
			"name": "python3"
		},
		"language_info": {
			"name": "python"
		}
	},
	"nbformat": 4,
	"nbformat_minor": 0
}